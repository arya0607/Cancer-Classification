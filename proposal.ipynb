{
 "cells": [
  {
   "cell_type": "code",
   "execution_count": 1,
   "metadata": {},
   "outputs": [],
   "source": [
    "import numpy as np\n",
    "from PIL import Image\n",
    "import os\n",
    "# 874, 1200 = maxRow, maxCol"
   ]
  },
  {
   "cell_type": "code",
   "execution_count": 2,
   "metadata": {},
   "outputs": [],
   "source": [
    "path = './../10-617 Project Data/Data'\n",
    "label0 = 'normal'\n",
    "label1 = 'adenocarcinoma_left.lower.lobe_T2_N0_M0_Ib'\n",
    "label2 = 'large.cell.carcinoma_left.hilum_T2_N2_M0_IIIa'\n",
    "label3 = 'squamous.cell.carcinoma_left.hilum_T1_N2_M0_IIIa'\n",
    "labelNames = [label0, label1, label2, label3]\n",
    "\n",
    "def getData(dataPath):\n",
    "    images = None\n",
    "    labels = None\n",
    "    maxRow = 0\n",
    "    maxCol = 0\n",
    "    minRow = 1000\n",
    "    minCol = 1000\n",
    "    for i in range(4):\n",
    "        iter = os.scandir(dataPath + labelNames[i])\n",
    "        for trainFileName in iter:\n",
    "            name = dataPath + labelNames[i] + '/' + trainFileName.name\n",
    "            img = Image.open(name).convert('L')\n",
    "            img = np.asarray(img)\n",
    "            img = np.array([np.asarray(img)])\n",
    "            # print(img.shape)\n",
    "            maxRow = max(maxRow, img.shape[1])\n",
    "            minRow = min(minRow, img.shape[1])\n",
    "            maxCol = max(maxCol, img.shape[2])\n",
    "            minCol = min(minCol, img.shape[2])\n",
    "\n",
    "            # print(img.shape)\n",
    "            # images = img if images is None else np.append(images, img, axis=0)\n",
    "            # labels = np.append(labels, i)\n",
    "        # print(images.shape)\n",
    "        # print(labels.size)\n",
    "    return (maxRow, maxCol, minRow, minCol)\n",
    "\n"
   ]
  },
  {
   "cell_type": "code",
   "execution_count": 3,
   "metadata": {},
   "outputs": [
    {
     "name": "stdout",
     "output_type": "stream",
     "text": [
      "(874, 1200, 110, 168)\n",
      "(627, 940, 181, 315)\n",
      "(700, 940, 232, 360)\n"
     ]
    }
   ],
   "source": [
    "# trainImages, trainLabels = getData(path + '/train/')\n",
    "# valImages, valLabels = getData(path + '/valid/')\n",
    "# testImages, testLabels = getData(path + '/test/')\n",
    "print(getData(path + '/train/'))\n",
    "print(getData(path + '/valid/'))\n",
    "print(getData(path + '/test/'))"
   ]
  },
  {
   "cell_type": "code",
   "execution_count": null,
   "metadata": {},
   "outputs": [],
   "source": [
    "# print(trainImages.shape, trainLabels.shape)\n",
    "# print(valImages.shape, valLabels.shape)\n",
    "# print(testImages.shape, testLabels)\n",
    "print(trainImages, trainLabels)\n",
    "print(valImages, valLabels)\n",
    "print(testImages, testLabels)"
   ]
  },
  {
   "cell_type": "code",
   "execution_count": null,
   "metadata": {},
   "outputs": [],
   "source": [
    "# x = trainImages\n",
    "# print(  x.itemsize)\n",
    "# print(x.size)\n",
    "# print(x.shape)\n",
    "import keras"
   ]
  }
 ],
 "metadata": {
  "kernelspec": {
   "display_name": "Python 3.10.6 64-bit",
   "language": "python",
   "name": "python3"
  },
  "language_info": {
   "codemirror_mode": {
    "name": "ipython",
    "version": 3
   },
   "file_extension": ".py",
   "mimetype": "text/x-python",
   "name": "python",
   "nbconvert_exporter": "python",
   "pygments_lexer": "ipython3",
   "version": "3.10.6"
  },
  "orig_nbformat": 4,
  "vscode": {
   "interpreter": {
    "hash": "b0fa6594d8f4cbf19f97940f81e996739fb7646882a419484c72d19e05852a7e"
   }
  }
 },
 "nbformat": 4,
 "nbformat_minor": 2
}
